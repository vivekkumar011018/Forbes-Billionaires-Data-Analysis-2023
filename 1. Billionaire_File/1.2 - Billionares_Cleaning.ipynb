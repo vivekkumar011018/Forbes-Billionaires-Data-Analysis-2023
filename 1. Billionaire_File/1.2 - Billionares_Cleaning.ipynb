{
 "cells": [
  {
   "cell_type": "code",
   "execution_count": 1,
   "id": "fc6519a2",
   "metadata": {},
   "outputs": [],
   "source": [
    "#importting required libraries\n",
    "import numpy as np\n",
    "import pandas as pd\n",
    "import warnings\n",
    "warnings.filterwarnings(\"ignore\")\n",
    "from bs4 import BeautifulSoup\n",
    "import requests\n",
    "import re\n",
    "#pd.set_option('display.max_rows', None)"
   ]
  },
  {
   "cell_type": "code",
   "execution_count": 2,
   "id": "a232b2b9",
   "metadata": {},
   "outputs": [],
   "source": [
    "#loading data\n",
    "data = pd.read_csv(\"billionare_file.csv\")\n",
    "female_data = pd.read_csv(\"female_billionares.csv\")"
   ]
  },
  {
   "cell_type": "code",
   "execution_count": 3,
   "id": "70daacc1",
   "metadata": {},
   "outputs": [
    {
     "data": {
      "text/html": [
       "<div>\n",
       "<style scoped>\n",
       "    .dataframe tbody tr th:only-of-type {\n",
       "        vertical-align: middle;\n",
       "    }\n",
       "\n",
       "    .dataframe tbody tr th {\n",
       "        vertical-align: top;\n",
       "    }\n",
       "\n",
       "    .dataframe thead th {\n",
       "        text-align: right;\n",
       "    }\n",
       "</style>\n",
       "<table border=\"1\" class=\"dataframe\">\n",
       "  <thead>\n",
       "    <tr style=\"text-align: right;\">\n",
       "      <th></th>\n",
       "      <th>Unnamed: 0</th>\n",
       "      <th>Image</th>\n",
       "      <th>Rank</th>\n",
       "      <th>Name</th>\n",
       "      <th>Net_Worth</th>\n",
       "      <th>Age</th>\n",
       "      <th>Source</th>\n",
       "      <th>Country</th>\n",
       "      <th>internal_link</th>\n",
       "      <th>Industry</th>\n",
       "    </tr>\n",
       "  </thead>\n",
       "  <tbody>\n",
       "    <tr>\n",
       "      <th>0</th>\n",
       "      <td>0</td>\n",
       "      <td>https://specials-images.forbesimg.com/imageser...</td>\n",
       "      <td>1.0</td>\n",
       "      <td>Elon Musk</td>\n",
       "      <td>$242.7 B</td>\n",
       "      <td>52.0</td>\n",
       "      <td>Tesla, SpaceX</td>\n",
       "      <td>United States</td>\n",
       "      <td>https://www.forbes.com/profile/elon-musk/?list...</td>\n",
       "      <td>Automotive</td>\n",
       "    </tr>\n",
       "    <tr>\n",
       "      <th>1</th>\n",
       "      <td>1</td>\n",
       "      <td>https://specials-images.forbesimg.com/imageser...</td>\n",
       "      <td>41.0</td>\n",
       "      <td>Robin Zeng</td>\n",
       "      <td>$32.7 B</td>\n",
       "      <td>54.0</td>\n",
       "      <td>Batteries</td>\n",
       "      <td>Hong Kong</td>\n",
       "      <td>https://www.forbes.com/profile/robin-zeng/?lis...</td>\n",
       "      <td>Automotive</td>\n",
       "    </tr>\n",
       "    <tr>\n",
       "      <th>2</th>\n",
       "      <td>2</td>\n",
       "      <td>https://specials-images.forbesimg.com/imageser...</td>\n",
       "      <td>57.0</td>\n",
       "      <td>Stefan Quandt</td>\n",
       "      <td>$26.6 B</td>\n",
       "      <td>57.0</td>\n",
       "      <td>BMW</td>\n",
       "      <td>Germany</td>\n",
       "      <td>https://www.forbes.com/profile/stefan-quandt/?...</td>\n",
       "      <td>Automotive</td>\n",
       "    </tr>\n",
       "    <tr>\n",
       "      <th>3</th>\n",
       "      <td>3</td>\n",
       "      <td>https://specials-images.forbesimg.com/imageser...</td>\n",
       "      <td>61.0</td>\n",
       "      <td>Susanne Klatten</td>\n",
       "      <td>$25.3 B</td>\n",
       "      <td>61.0</td>\n",
       "      <td>BMW, pharmaceuticals</td>\n",
       "      <td>Germany</td>\n",
       "      <td>https://www.forbes.com/profile/susanne-klatten...</td>\n",
       "      <td>Automotive</td>\n",
       "    </tr>\n",
       "    <tr>\n",
       "      <th>4</th>\n",
       "      <td>4</td>\n",
       "      <td>//specials-images.forbesimg.com/imageserve/5dc...</td>\n",
       "      <td>84.0</td>\n",
       "      <td>Wang Chuanfu</td>\n",
       "      <td>$19.8 B</td>\n",
       "      <td>57.0</td>\n",
       "      <td>Batteries, automobiles</td>\n",
       "      <td>China</td>\n",
       "      <td>https://www.forbes.com/profile/wang-chuanfu/?l...</td>\n",
       "      <td>Automotive</td>\n",
       "    </tr>\n",
       "  </tbody>\n",
       "</table>\n",
       "</div>"
      ],
      "text/plain": [
       "   Unnamed: 0                                              Image  Rank  \\\n",
       "0           0  https://specials-images.forbesimg.com/imageser...   1.0   \n",
       "1           1  https://specials-images.forbesimg.com/imageser...  41.0   \n",
       "2           2  https://specials-images.forbesimg.com/imageser...  57.0   \n",
       "3           3  https://specials-images.forbesimg.com/imageser...  61.0   \n",
       "4           4  //specials-images.forbesimg.com/imageserve/5dc...  84.0   \n",
       "\n",
       "              Name Net_Worth   Age                  Source        Country  \\\n",
       "0        Elon Musk  $242.7 B  52.0           Tesla, SpaceX  United States   \n",
       "1       Robin Zeng   $32.7 B  54.0               Batteries      Hong Kong   \n",
       "2    Stefan Quandt   $26.6 B  57.0                     BMW        Germany   \n",
       "3  Susanne Klatten   $25.3 B  61.0    BMW, pharmaceuticals        Germany   \n",
       "4     Wang Chuanfu   $19.8 B  57.0  Batteries, automobiles          China   \n",
       "\n",
       "                                       internal_link    Industry  \n",
       "0  https://www.forbes.com/profile/elon-musk/?list...  Automotive  \n",
       "1  https://www.forbes.com/profile/robin-zeng/?lis...  Automotive  \n",
       "2  https://www.forbes.com/profile/stefan-quandt/?...  Automotive  \n",
       "3  https://www.forbes.com/profile/susanne-klatten...  Automotive  \n",
       "4  https://www.forbes.com/profile/wang-chuanfu/?l...  Automotive  "
      ]
     },
     "execution_count": 3,
     "metadata": {},
     "output_type": "execute_result"
    }
   ],
   "source": [
    "data.head()"
   ]
  },
  {
   "cell_type": "code",
   "execution_count": 4,
   "id": "3780f230",
   "metadata": {},
   "outputs": [
    {
     "data": {
      "text/html": [
       "<div>\n",
       "<style scoped>\n",
       "    .dataframe tbody tr th:only-of-type {\n",
       "        vertical-align: middle;\n",
       "    }\n",
       "\n",
       "    .dataframe tbody tr th {\n",
       "        vertical-align: top;\n",
       "    }\n",
       "\n",
       "    .dataframe thead th {\n",
       "        text-align: right;\n",
       "    }\n",
       "</style>\n",
       "<table border=\"1\" class=\"dataframe\">\n",
       "  <thead>\n",
       "    <tr style=\"text-align: right;\">\n",
       "      <th></th>\n",
       "      <th>Unnamed: 0</th>\n",
       "      <th>female_name</th>\n",
       "    </tr>\n",
       "  </thead>\n",
       "  <tbody>\n",
       "    <tr>\n",
       "      <th>0</th>\n",
       "      <td>0</td>\n",
       "      <td>Francoise Bettencourt Meyers &amp; family</td>\n",
       "    </tr>\n",
       "    <tr>\n",
       "      <th>1</th>\n",
       "      <td>1</td>\n",
       "      <td>Alice Walton</td>\n",
       "    </tr>\n",
       "    <tr>\n",
       "      <th>2</th>\n",
       "      <td>2</td>\n",
       "      <td>Julia Koch &amp; family</td>\n",
       "    </tr>\n",
       "    <tr>\n",
       "      <th>3</th>\n",
       "      <td>3</td>\n",
       "      <td>Jacqueline Mars</td>\n",
       "    </tr>\n",
       "    <tr>\n",
       "      <th>4</th>\n",
       "      <td>4</td>\n",
       "      <td>Miriam Adelson &amp; family</td>\n",
       "    </tr>\n",
       "  </tbody>\n",
       "</table>\n",
       "</div>"
      ],
      "text/plain": [
       "   Unnamed: 0                            female_name\n",
       "0           0  Francoise Bettencourt Meyers & family\n",
       "1           1                           Alice Walton\n",
       "2           2                    Julia Koch & family\n",
       "3           3                        Jacqueline Mars\n",
       "4           4                Miriam Adelson & family"
      ]
     },
     "execution_count": 4,
     "metadata": {},
     "output_type": "execute_result"
    }
   ],
   "source": [
    "female_data.head()"
   ]
  },
  {
   "cell_type": "markdown",
   "id": "556614f6",
   "metadata": {},
   "source": [
    "# Summary of the Data"
   ]
  },
  {
   "cell_type": "markdown",
   "id": "a52dd525",
   "metadata": {},
   "source": [
    "This Data is about more than 2600 Billionaires that is listed on \"Forbes Real Time Billionaire\" of year 2023. This Dataset provides some information about billionaires. \n",
    "\n",
    "## Columns Description\n",
    "\n",
    "#### **Table** -> `data`:\n",
    "\n",
    "- `Image` - Image of billionaires in small size as link.\n",
    "\n",
    "- `Rank` -  Billionaires's rank based on their worth value calculated by forbes.\n",
    "\n",
    "- `Name` - Name of the billionaire.\n",
    "\n",
    "- `Net-Worth` - This column contains the net worth of billionaire in real-time in billions.\n",
    "\n",
    "- `Age` - Age of the billionaire.\n",
    "\n",
    "- `Source` - This column hold company name through which they earn money.\n",
    "\n",
    "- `Country` - In which country they belong to or their company.\n",
    "\n",
    "- `internal_link` - This column has links that holds some extra information about the billionaires. Further this column will be used to scrape the extra information about billionaires.\n",
    "\n",
    "- `Industry` - Their company belong to which industry.\n",
    "\n",
    "#### **Table** -> `female_data`:\n",
    "\n",
    "**female_data** only contains billionaires name who is female, so that I can distinguish between male and female billionaires. For this, in **female_data**, I will create a new column called **Sex** and value will be female."
   ]
  },
  {
   "cell_type": "code",
   "execution_count": 5,
   "id": "926cfb44",
   "metadata": {},
   "outputs": [
    {
     "data": {
      "text/html": [
       "<div>\n",
       "<style scoped>\n",
       "    .dataframe tbody tr th:only-of-type {\n",
       "        vertical-align: middle;\n",
       "    }\n",
       "\n",
       "    .dataframe tbody tr th {\n",
       "        vertical-align: top;\n",
       "    }\n",
       "\n",
       "    .dataframe thead th {\n",
       "        text-align: right;\n",
       "    }\n",
       "</style>\n",
       "<table border=\"1\" class=\"dataframe\">\n",
       "  <thead>\n",
       "    <tr style=\"text-align: right;\">\n",
       "      <th></th>\n",
       "      <th>Unnamed: 0</th>\n",
       "      <th>Image</th>\n",
       "      <th>Rank</th>\n",
       "      <th>Name</th>\n",
       "      <th>Net_Worth</th>\n",
       "      <th>Age</th>\n",
       "      <th>Source</th>\n",
       "      <th>Country</th>\n",
       "      <th>internal_link</th>\n",
       "      <th>Industry</th>\n",
       "    </tr>\n",
       "  </thead>\n",
       "  <tbody>\n",
       "    <tr>\n",
       "      <th>0</th>\n",
       "      <td>0</td>\n",
       "      <td>https://specials-images.forbesimg.com/imageser...</td>\n",
       "      <td>1.0</td>\n",
       "      <td>Elon Musk</td>\n",
       "      <td>$242.7 B</td>\n",
       "      <td>52.0</td>\n",
       "      <td>Tesla, SpaceX</td>\n",
       "      <td>United States</td>\n",
       "      <td>https://www.forbes.com/profile/elon-musk/?list...</td>\n",
       "      <td>Automotive</td>\n",
       "    </tr>\n",
       "  </tbody>\n",
       "</table>\n",
       "</div>"
      ],
      "text/plain": [
       "   Unnamed: 0                                              Image  Rank  \\\n",
       "0           0  https://specials-images.forbesimg.com/imageser...   1.0   \n",
       "\n",
       "        Name Net_Worth   Age         Source        Country  \\\n",
       "0  Elon Musk  $242.7 B  52.0  Tesla, SpaceX  United States   \n",
       "\n",
       "                                       internal_link    Industry  \n",
       "0  https://www.forbes.com/profile/elon-musk/?list...  Automotive  "
      ]
     },
     "execution_count": 5,
     "metadata": {},
     "output_type": "execute_result"
    }
   ],
   "source": [
    "data.head(1)"
   ]
  },
  {
   "cell_type": "markdown",
   "id": "ab4d9a59",
   "metadata": {},
   "source": [
    "### Issues with Dataset\n",
    "\n",
    "#### 1. table -> data\n",
    "   - `Image Column` - Some of the link are not complete, 'https://' are missing.\n",
    "   \n",
    "   - `Name column` - In name column, some rows contains **& family** with their name in last. - `Dirty Data`\n",
    "   \n",
    "   - `Rank Column` - This column not in order (in Ascending). It is random.\n",
    "   \n",
    "   - `Net_Worth` - B and dollar sign is included in net_worth value. - `Dirty Data`\n",
    "   \n",
    "   - `Age` - This column has some missing values.\n",
    "   \n",
    "   - There are some null values, which came during scraping, there is no any billionaires data missing. So, I will drop it later. - `Dirty Data`\n",
    "   \n",
    "#### 2. table -> female_data\n",
    "   - `Name Column` - In name column, some rows contains **& family** with their name in last. - `Dirty Data`\n",
    "   - **Sex** column is not there, I will create it. "
   ]
  },
  {
   "cell_type": "markdown",
   "id": "f91b5717",
   "metadata": {},
   "source": [
    "## Data Cleaning"
   ]
  },
  {
   "cell_type": "markdown",
   "id": "889f0048",
   "metadata": {},
   "source": [
    "#### Table = data\n",
    "\n",
    "- Remove null vaues\n",
    "- Add \"'https://\" in incomplete rows in image column.\n",
    "- make rank column in ascending order.\n",
    "- Remove **& family** from name column.\n",
    "- Remove dollar sign and B from net_worth column.\n",
    "- Fill age value as much as possible in age column.\n",
    "- Seperate \"internal_link\" column from this dataset.\n",
    "- Incorrect data type assigned to rank, net_worth, and age column. Convert it.\n",
    "\n",
    "\n",
    "#### Table = female_data\n",
    "\n",
    "- Remove **& family** from name column.\n",
    "- Create **Sex** column with value **Female**\n",
    "- This dataset should not be independent, merge it with data."
   ]
  },
  {
   "cell_type": "markdown",
   "id": "0dcffe66",
   "metadata": {},
   "source": [
    "### 1. Table --> Data"
   ]
  },
  {
   "cell_type": "markdown",
   "id": "482581fe",
   "metadata": {},
   "source": [
    "### Remove null vaues"
   ]
  },
  {
   "cell_type": "code",
   "execution_count": 6,
   "id": "2debab1e",
   "metadata": {},
   "outputs": [
    {
     "data": {
      "text/plain": [
       "Unnamed: 0         0\n",
       "Image            255\n",
       "Rank             255\n",
       "Name             255\n",
       "Net_Worth        255\n",
       "Age              332\n",
       "Source           255\n",
       "Country          255\n",
       "internal_link    255\n",
       "Industry           0\n",
       "dtype: int64"
      ]
     },
     "execution_count": 6,
     "metadata": {},
     "output_type": "execute_result"
    }
   ],
   "source": [
    "#Checking for null values\n",
    "data.isnull().sum()\n",
    "# As you can see, most of the columns have same number of null values, this null values came during scraping.\n",
    "# Here, no data of any billionares are missing. So, I will remove this null value. i.e. |255."
   ]
  },
  {
   "cell_type": "code",
   "execution_count": 7,
   "id": "0c367d23",
   "metadata": {},
   "outputs": [
    {
     "data": {
      "text/plain": [
       "Unnamed: 0      0\n",
       "female_name    33\n",
       "dtype: int64"
      ]
     },
     "execution_count": 7,
     "metadata": {},
     "output_type": "execute_result"
    }
   ],
   "source": [
    "female_data.isnull().sum()\n",
    "# As you can see, most of the columns have same number of null values here also, this null values came during scraping.\n",
    "# Here, no data of any billionares are missing. So, I will remove this null value. i.e. 33."
   ]
  },
  {
   "cell_type": "code",
   "execution_count": 8,
   "id": "73dc68ca",
   "metadata": {},
   "outputs": [
    {
     "data": {
      "text/html": [
       "<div>\n",
       "<style scoped>\n",
       "    .dataframe tbody tr th:only-of-type {\n",
       "        vertical-align: middle;\n",
       "    }\n",
       "\n",
       "    .dataframe tbody tr th {\n",
       "        vertical-align: top;\n",
       "    }\n",
       "\n",
       "    .dataframe thead th {\n",
       "        text-align: right;\n",
       "    }\n",
       "</style>\n",
       "<table border=\"1\" class=\"dataframe\">\n",
       "  <thead>\n",
       "    <tr style=\"text-align: right;\">\n",
       "      <th></th>\n",
       "      <th>Unnamed: 0</th>\n",
       "      <th>Image</th>\n",
       "      <th>Rank</th>\n",
       "      <th>Name</th>\n",
       "      <th>Net_Worth</th>\n",
       "      <th>Age</th>\n",
       "      <th>Source</th>\n",
       "      <th>Country</th>\n",
       "      <th>internal_link</th>\n",
       "      <th>Industry</th>\n",
       "    </tr>\n",
       "  </thead>\n",
       "  <tbody>\n",
       "    <tr>\n",
       "      <th>10</th>\n",
       "      <td>10</td>\n",
       "      <td>NaN</td>\n",
       "      <td>NaN</td>\n",
       "      <td>NaN</td>\n",
       "      <td>NaN</td>\n",
       "      <td>NaN</td>\n",
       "      <td>NaN</td>\n",
       "      <td>NaN</td>\n",
       "      <td>NaN</td>\n",
       "      <td>Automotive</td>\n",
       "    </tr>\n",
       "    <tr>\n",
       "      <th>21</th>\n",
       "      <td>21</td>\n",
       "      <td>NaN</td>\n",
       "      <td>NaN</td>\n",
       "      <td>NaN</td>\n",
       "      <td>NaN</td>\n",
       "      <td>NaN</td>\n",
       "      <td>NaN</td>\n",
       "      <td>NaN</td>\n",
       "      <td>NaN</td>\n",
       "      <td>Automotive</td>\n",
       "    </tr>\n",
       "    <tr>\n",
       "      <th>32</th>\n",
       "      <td>32</td>\n",
       "      <td>NaN</td>\n",
       "      <td>NaN</td>\n",
       "      <td>NaN</td>\n",
       "      <td>NaN</td>\n",
       "      <td>NaN</td>\n",
       "      <td>NaN</td>\n",
       "      <td>NaN</td>\n",
       "      <td>NaN</td>\n",
       "      <td>Automotive</td>\n",
       "    </tr>\n",
       "    <tr>\n",
       "      <th>43</th>\n",
       "      <td>43</td>\n",
       "      <td>NaN</td>\n",
       "      <td>NaN</td>\n",
       "      <td>NaN</td>\n",
       "      <td>NaN</td>\n",
       "      <td>NaN</td>\n",
       "      <td>NaN</td>\n",
       "      <td>NaN</td>\n",
       "      <td>NaN</td>\n",
       "      <td>Automotive</td>\n",
       "    </tr>\n",
       "    <tr>\n",
       "      <th>54</th>\n",
       "      <td>54</td>\n",
       "      <td>NaN</td>\n",
       "      <td>NaN</td>\n",
       "      <td>NaN</td>\n",
       "      <td>NaN</td>\n",
       "      <td>NaN</td>\n",
       "      <td>NaN</td>\n",
       "      <td>NaN</td>\n",
       "      <td>NaN</td>\n",
       "      <td>Automotive</td>\n",
       "    </tr>\n",
       "    <tr>\n",
       "      <th>...</th>\n",
       "      <td>...</td>\n",
       "      <td>...</td>\n",
       "      <td>...</td>\n",
       "      <td>...</td>\n",
       "      <td>...</td>\n",
       "      <td>...</td>\n",
       "      <td>...</td>\n",
       "      <td>...</td>\n",
       "      <td>...</td>\n",
       "      <td>...</td>\n",
       "    </tr>\n",
       "    <tr>\n",
       "      <th>2819</th>\n",
       "      <td>2819</td>\n",
       "      <td>NaN</td>\n",
       "      <td>NaN</td>\n",
       "      <td>NaN</td>\n",
       "      <td>NaN</td>\n",
       "      <td>NaN</td>\n",
       "      <td>NaN</td>\n",
       "      <td>NaN</td>\n",
       "      <td>NaN</td>\n",
       "      <td>Technology</td>\n",
       "    </tr>\n",
       "    <tr>\n",
       "      <th>2830</th>\n",
       "      <td>2830</td>\n",
       "      <td>NaN</td>\n",
       "      <td>NaN</td>\n",
       "      <td>NaN</td>\n",
       "      <td>NaN</td>\n",
       "      <td>NaN</td>\n",
       "      <td>NaN</td>\n",
       "      <td>NaN</td>\n",
       "      <td>NaN</td>\n",
       "      <td>Technology</td>\n",
       "    </tr>\n",
       "    <tr>\n",
       "      <th>2841</th>\n",
       "      <td>2841</td>\n",
       "      <td>NaN</td>\n",
       "      <td>NaN</td>\n",
       "      <td>NaN</td>\n",
       "      <td>NaN</td>\n",
       "      <td>NaN</td>\n",
       "      <td>NaN</td>\n",
       "      <td>NaN</td>\n",
       "      <td>NaN</td>\n",
       "      <td>Telecom</td>\n",
       "    </tr>\n",
       "    <tr>\n",
       "      <th>2852</th>\n",
       "      <td>2852</td>\n",
       "      <td>NaN</td>\n",
       "      <td>NaN</td>\n",
       "      <td>NaN</td>\n",
       "      <td>NaN</td>\n",
       "      <td>NaN</td>\n",
       "      <td>NaN</td>\n",
       "      <td>NaN</td>\n",
       "      <td>NaN</td>\n",
       "      <td>Telecom</td>\n",
       "    </tr>\n",
       "    <tr>\n",
       "      <th>2863</th>\n",
       "      <td>2863</td>\n",
       "      <td>NaN</td>\n",
       "      <td>NaN</td>\n",
       "      <td>NaN</td>\n",
       "      <td>NaN</td>\n",
       "      <td>NaN</td>\n",
       "      <td>NaN</td>\n",
       "      <td>NaN</td>\n",
       "      <td>NaN</td>\n",
       "      <td>Telecom</td>\n",
       "    </tr>\n",
       "  </tbody>\n",
       "</table>\n",
       "<p>255 rows × 10 columns</p>\n",
       "</div>"
      ],
      "text/plain": [
       "      Unnamed: 0 Image  Rank Name Net_Worth  Age Source Country internal_link  \\\n",
       "10            10   NaN   NaN  NaN       NaN  NaN    NaN     NaN           NaN   \n",
       "21            21   NaN   NaN  NaN       NaN  NaN    NaN     NaN           NaN   \n",
       "32            32   NaN   NaN  NaN       NaN  NaN    NaN     NaN           NaN   \n",
       "43            43   NaN   NaN  NaN       NaN  NaN    NaN     NaN           NaN   \n",
       "54            54   NaN   NaN  NaN       NaN  NaN    NaN     NaN           NaN   \n",
       "...          ...   ...   ...  ...       ...  ...    ...     ...           ...   \n",
       "2819        2819   NaN   NaN  NaN       NaN  NaN    NaN     NaN           NaN   \n",
       "2830        2830   NaN   NaN  NaN       NaN  NaN    NaN     NaN           NaN   \n",
       "2841        2841   NaN   NaN  NaN       NaN  NaN    NaN     NaN           NaN   \n",
       "2852        2852   NaN   NaN  NaN       NaN  NaN    NaN     NaN           NaN   \n",
       "2863        2863   NaN   NaN  NaN       NaN  NaN    NaN     NaN           NaN   \n",
       "\n",
       "        Industry  \n",
       "10    Automotive  \n",
       "21    Automotive  \n",
       "32    Automotive  \n",
       "43    Automotive  \n",
       "54    Automotive  \n",
       "...          ...  \n",
       "2819  Technology  \n",
       "2830  Technology  \n",
       "2841     Telecom  \n",
       "2852     Telecom  \n",
       "2863     Telecom  \n",
       "\n",
       "[255 rows x 10 columns]"
      ]
     },
     "execution_count": 8,
     "metadata": {},
     "output_type": "execute_result"
    }
   ],
   "source": [
    "data[data['Image'].isnull()]"
   ]
  },
  {
   "cell_type": "code",
   "execution_count": 9,
   "id": "189e3477",
   "metadata": {},
   "outputs": [],
   "source": [
    "data = data[data['Image'].notnull()]\n",
    "female_data = female_data[female_data['female_name'].notnull()]"
   ]
  },
  {
   "cell_type": "code",
   "execution_count": 10,
   "id": "c6f1df6d",
   "metadata": {},
   "outputs": [
    {
     "data": {
      "text/plain": [
       "Unnamed: 0        0\n",
       "Image             0\n",
       "Rank              0\n",
       "Name              0\n",
       "Net_Worth         0\n",
       "Age              77\n",
       "Source            0\n",
       "Country           0\n",
       "internal_link     0\n",
       "Industry          0\n",
       "dtype: int64"
      ]
     },
     "execution_count": 10,
     "metadata": {},
     "output_type": "execute_result"
    }
   ],
   "source": [
    "data.isnull().sum()\n",
    "# Now only 77 value from age is missing."
   ]
  },
  {
   "cell_type": "code",
   "execution_count": 11,
   "id": "1ce6771b",
   "metadata": {},
   "outputs": [
    {
     "data": {
      "text/plain": [
       "Unnamed: 0     0\n",
       "female_name    0\n",
       "dtype: int64"
      ]
     },
     "execution_count": 11,
     "metadata": {},
     "output_type": "execute_result"
    }
   ],
   "source": [
    "female_data.isnull().sum()\n",
    "# No missing values"
   ]
  },
  {
   "cell_type": "markdown",
   "id": "3e6cb267",
   "metadata": {},
   "source": [
    "### Add \"'https://\" in incomplete rows in Image Column."
   ]
  },
  {
   "cell_type": "code",
   "execution_count": 12,
   "id": "b6e2d386",
   "metadata": {},
   "outputs": [
    {
     "data": {
      "text/plain": [
       "0       https://specials-images.forbesimg.com/imageser...\n",
       "1       https://specials-images.forbesimg.com/imageser...\n",
       "2       https://specials-images.forbesimg.com/imageser...\n",
       "3       https://specials-images.forbesimg.com/imageser...\n",
       "4       //specials-images.forbesimg.com/imageserve/5dc...\n",
       "                              ...                        \n",
       "2858    https://specials-images.forbesimg.com/imageser...\n",
       "2859    //specials-images.forbesimg.com/imageserve/5ab...\n",
       "2860    //specials-images.forbesimg.com/imageserve/5a8...\n",
       "2861    //specials-images.forbesimg.com/imageserve/5ab...\n",
       "2862    //specials-images.forbesimg.com/imageserve/5ab...\n",
       "Name: Image, Length: 2609, dtype: object"
      ]
     },
     "execution_count": 12,
     "metadata": {},
     "output_type": "execute_result"
    }
   ],
   "source": [
    "data['Image']\n",
    "# In this column, you will notice that some links are pure links, but some links are incomplete. \"https: is missing.\"\n",
    "# let add it"
   ]
  },
  {
   "cell_type": "code",
   "execution_count": 13,
   "id": "fc0d3aad",
   "metadata": {},
   "outputs": [],
   "source": [
    "def full_link(value):\n",
    "    if value.startswith('https:'):\n",
    "        return value\n",
    "    else:\n",
    "        return 'https:' + value"
   ]
  },
  {
   "cell_type": "code",
   "execution_count": 14,
   "id": "d4adaf37",
   "metadata": {},
   "outputs": [],
   "source": [
    "data['Image'] = data['Image'].apply(full_link)"
   ]
  },
  {
   "cell_type": "code",
   "execution_count": 15,
   "id": "f45c1cd9",
   "metadata": {},
   "outputs": [
    {
     "data": {
      "text/plain": [
       "0       https://specials-images.forbesimg.com/imageser...\n",
       "1       https://specials-images.forbesimg.com/imageser...\n",
       "2       https://specials-images.forbesimg.com/imageser...\n",
       "3       https://specials-images.forbesimg.com/imageser...\n",
       "4       https://specials-images.forbesimg.com/imageser...\n",
       "                              ...                        \n",
       "2858    https://specials-images.forbesimg.com/imageser...\n",
       "2859    https://specials-images.forbesimg.com/imageser...\n",
       "2860    https://specials-images.forbesimg.com/imageser...\n",
       "2861    https://specials-images.forbesimg.com/imageser...\n",
       "2862    https://specials-images.forbesimg.com/imageser...\n",
       "Name: Image, Length: 2609, dtype: object"
      ]
     },
     "execution_count": 15,
     "metadata": {},
     "output_type": "execute_result"
    }
   ],
   "source": [
    "data['Image']"
   ]
  },
  {
   "cell_type": "markdown",
   "id": "33094357",
   "metadata": {},
   "source": [
    "### make rank column in ascending order and correct data type"
   ]
  },
  {
   "cell_type": "code",
   "execution_count": 16,
   "id": "286656cc",
   "metadata": {},
   "outputs": [
    {
     "data": {
      "text/html": [
       "<div>\n",
       "<style scoped>\n",
       "    .dataframe tbody tr th:only-of-type {\n",
       "        vertical-align: middle;\n",
       "    }\n",
       "\n",
       "    .dataframe tbody tr th {\n",
       "        vertical-align: top;\n",
       "    }\n",
       "\n",
       "    .dataframe thead th {\n",
       "        text-align: right;\n",
       "    }\n",
       "</style>\n",
       "<table border=\"1\" class=\"dataframe\">\n",
       "  <thead>\n",
       "    <tr style=\"text-align: right;\">\n",
       "      <th></th>\n",
       "      <th>Unnamed: 0</th>\n",
       "      <th>Image</th>\n",
       "      <th>Rank</th>\n",
       "      <th>Name</th>\n",
       "      <th>Net_Worth</th>\n",
       "      <th>Age</th>\n",
       "      <th>Source</th>\n",
       "      <th>Country</th>\n",
       "      <th>internal_link</th>\n",
       "      <th>Industry</th>\n",
       "    </tr>\n",
       "  </thead>\n",
       "  <tbody>\n",
       "    <tr>\n",
       "      <th>0</th>\n",
       "      <td>0</td>\n",
       "      <td>https://specials-images.forbesimg.com/imageser...</td>\n",
       "      <td>1.0</td>\n",
       "      <td>Elon Musk</td>\n",
       "      <td>$242.7 B</td>\n",
       "      <td>52.0</td>\n",
       "      <td>Tesla, SpaceX</td>\n",
       "      <td>United States</td>\n",
       "      <td>https://www.forbes.com/profile/elon-musk/?list...</td>\n",
       "      <td>Automotive</td>\n",
       "    </tr>\n",
       "    <tr>\n",
       "      <th>1</th>\n",
       "      <td>1</td>\n",
       "      <td>https://specials-images.forbesimg.com/imageser...</td>\n",
       "      <td>41.0</td>\n",
       "      <td>Robin Zeng</td>\n",
       "      <td>$32.7 B</td>\n",
       "      <td>54.0</td>\n",
       "      <td>Batteries</td>\n",
       "      <td>Hong Kong</td>\n",
       "      <td>https://www.forbes.com/profile/robin-zeng/?lis...</td>\n",
       "      <td>Automotive</td>\n",
       "    </tr>\n",
       "  </tbody>\n",
       "</table>\n",
       "</div>"
      ],
      "text/plain": [
       "   Unnamed: 0                                              Image  Rank  \\\n",
       "0           0  https://specials-images.forbesimg.com/imageser...   1.0   \n",
       "1           1  https://specials-images.forbesimg.com/imageser...  41.0   \n",
       "\n",
       "         Name Net_Worth   Age         Source        Country  \\\n",
       "0   Elon Musk  $242.7 B  52.0  Tesla, SpaceX  United States   \n",
       "1  Robin Zeng   $32.7 B  54.0      Batteries      Hong Kong   \n",
       "\n",
       "                                       internal_link    Industry  \n",
       "0  https://www.forbes.com/profile/elon-musk/?list...  Automotive  \n",
       "1  https://www.forbes.com/profile/robin-zeng/?lis...  Automotive  "
      ]
     },
     "execution_count": 16,
     "metadata": {},
     "output_type": "execute_result"
    }
   ],
   "source": [
    "data.head(2)"
   ]
  },
  {
   "cell_type": "code",
   "execution_count": 17,
   "id": "81bcb9ae",
   "metadata": {},
   "outputs": [],
   "source": [
    "data.sort_values('Rank', inplace=True)"
   ]
  },
  {
   "cell_type": "code",
   "execution_count": 18,
   "id": "1e6d961d",
   "metadata": {},
   "outputs": [],
   "source": [
    "data.reset_index(inplace=True) # reseting index value\n",
    "data.drop(columns=['index'], inplace=True)"
   ]
  },
  {
   "cell_type": "code",
   "execution_count": 19,
   "id": "5512962d",
   "metadata": {},
   "outputs": [],
   "source": [
    "# converting float64 to int16\n",
    "data['Rank'] = data['Rank'].astype('Int16')"
   ]
  },
  {
   "cell_type": "markdown",
   "id": "f18c4d4d",
   "metadata": {},
   "source": [
    "### Remove '**& family**' from name column."
   ]
  },
  {
   "cell_type": "code",
   "execution_count": 20,
   "id": "b7e4c655",
   "metadata": {},
   "outputs": [
    {
     "data": {
      "text/html": [
       "<div>\n",
       "<style scoped>\n",
       "    .dataframe tbody tr th:only-of-type {\n",
       "        vertical-align: middle;\n",
       "    }\n",
       "\n",
       "    .dataframe tbody tr th {\n",
       "        vertical-align: top;\n",
       "    }\n",
       "\n",
       "    .dataframe thead th {\n",
       "        text-align: right;\n",
       "    }\n",
       "</style>\n",
       "<table border=\"1\" class=\"dataframe\">\n",
       "  <thead>\n",
       "    <tr style=\"text-align: right;\">\n",
       "      <th></th>\n",
       "      <th>Unnamed: 0</th>\n",
       "      <th>Image</th>\n",
       "      <th>Rank</th>\n",
       "      <th>Name</th>\n",
       "      <th>Net_Worth</th>\n",
       "      <th>Age</th>\n",
       "      <th>Source</th>\n",
       "      <th>Country</th>\n",
       "      <th>internal_link</th>\n",
       "      <th>Industry</th>\n",
       "    </tr>\n",
       "  </thead>\n",
       "  <tbody>\n",
       "    <tr>\n",
       "      <th>1</th>\n",
       "      <td>439</td>\n",
       "      <td>https://specials-images.forbesimg.com/imageser...</td>\n",
       "      <td>2</td>\n",
       "      <td>Bernard Arnault &amp; family</td>\n",
       "      <td>$224.1 B</td>\n",
       "      <td>74.0</td>\n",
       "      <td>LVMH</td>\n",
       "      <td>France</td>\n",
       "      <td>https://www.forbes.com/profile/bernard-arnault...</td>\n",
       "      <td>Fashion &amp; Retail</td>\n",
       "    </tr>\n",
       "    <tr>\n",
       "      <th>8</th>\n",
       "      <td>2831</td>\n",
       "      <td>https://specials-images.forbesimg.com/imageser...</td>\n",
       "      <td>9</td>\n",
       "      <td>Carlos Slim Helu &amp; family</td>\n",
       "      <td>$100.6 B</td>\n",
       "      <td>83.0</td>\n",
       "      <td>Telecom</td>\n",
       "      <td>Mexico</td>\n",
       "      <td>https://www.forbes.com/profile/carlos-slim-hel...</td>\n",
       "      <td>Telecom</td>\n",
       "    </tr>\n",
       "    <tr>\n",
       "      <th>14</th>\n",
       "      <td>441</td>\n",
       "      <td>https://specials-images.forbesimg.com/imageser...</td>\n",
       "      <td>15</td>\n",
       "      <td>Francoise Bettencourt Meyers &amp; family</td>\n",
       "      <td>$89.0 B</td>\n",
       "      <td>70.0</td>\n",
       "      <td>L'Oréal</td>\n",
       "      <td>France</td>\n",
       "      <td>https://www.forbes.com/profile/francoise-bette...</td>\n",
       "      <td>Fashion &amp; Retail</td>\n",
       "    </tr>\n",
       "    <tr>\n",
       "      <th>21</th>\n",
       "      <td>132</td>\n",
       "      <td>https://specials-images.forbesimg.com/imageser...</td>\n",
       "      <td>21</td>\n",
       "      <td>Julia Koch &amp; family</td>\n",
       "      <td>$57.9 B</td>\n",
       "      <td>61.0</td>\n",
       "      <td>Koch Industries</td>\n",
       "      <td>United States</td>\n",
       "      <td>https://www.forbes.com/profile/julia-koch/?lis...</td>\n",
       "      <td>Diversified</td>\n",
       "    </tr>\n",
       "    <tr>\n",
       "      <th>22</th>\n",
       "      <td>1994</td>\n",
       "      <td>https://specials-images.forbesimg.com/imageser...</td>\n",
       "      <td>23</td>\n",
       "      <td>David Thomson &amp; family</td>\n",
       "      <td>$56.6 B</td>\n",
       "      <td>66.0</td>\n",
       "      <td>Media</td>\n",
       "      <td>Canada</td>\n",
       "      <td>https://www.forbes.com/profile/david-thomson/?...</td>\n",
       "      <td>Media &amp; Entertainment</td>\n",
       "    </tr>\n",
       "  </tbody>\n",
       "</table>\n",
       "</div>"
      ],
      "text/plain": [
       "    Unnamed: 0                                              Image  Rank  \\\n",
       "1          439  https://specials-images.forbesimg.com/imageser...     2   \n",
       "8         2831  https://specials-images.forbesimg.com/imageser...     9   \n",
       "14         441  https://specials-images.forbesimg.com/imageser...    15   \n",
       "21         132  https://specials-images.forbesimg.com/imageser...    21   \n",
       "22        1994  https://specials-images.forbesimg.com/imageser...    23   \n",
       "\n",
       "                                     Name Net_Worth   Age            Source  \\\n",
       "1                Bernard Arnault & family  $224.1 B  74.0              LVMH   \n",
       "8               Carlos Slim Helu & family  $100.6 B  83.0           Telecom   \n",
       "14  Francoise Bettencourt Meyers & family   $89.0 B  70.0           L'Oréal   \n",
       "21                    Julia Koch & family   $57.9 B  61.0  Koch Industries    \n",
       "22                 David Thomson & family   $56.6 B  66.0             Media   \n",
       "\n",
       "          Country                                      internal_link  \\\n",
       "1          France  https://www.forbes.com/profile/bernard-arnault...   \n",
       "8          Mexico  https://www.forbes.com/profile/carlos-slim-hel...   \n",
       "14         France  https://www.forbes.com/profile/francoise-bette...   \n",
       "21  United States  https://www.forbes.com/profile/julia-koch/?lis...   \n",
       "22         Canada  https://www.forbes.com/profile/david-thomson/?...   \n",
       "\n",
       "                 Industry  \n",
       "1        Fashion & Retail  \n",
       "8                 Telecom  \n",
       "14       Fashion & Retail  \n",
       "21            Diversified  \n",
       "22  Media & Entertainment  "
      ]
     },
     "execution_count": 20,
     "metadata": {},
     "output_type": "execute_result"
    }
   ],
   "source": [
    "data[data['Name'].str.contains('& family')].head()"
   ]
  },
  {
   "cell_type": "code",
   "execution_count": 21,
   "id": "ee44bf67",
   "metadata": {},
   "outputs": [],
   "source": [
    "data['Name'] = data['Name'].str.replace('& family','').str.strip()"
   ]
  },
  {
   "cell_type": "markdown",
   "id": "52c754c6",
   "metadata": {},
   "source": [
    "### Remove dollar sign and B from net_worth column and correct data type"
   ]
  },
  {
   "cell_type": "code",
   "execution_count": 22,
   "id": "a96534ae",
   "metadata": {},
   "outputs": [
    {
     "data": {
      "text/plain": [
       "0       $242.7 B\n",
       "1       $224.1 B\n",
       "2       $149.8 B\n",
       "3       $144.5 B\n",
       "4       $118.0 B\n",
       "          ...   \n",
       "2604      $1.0 B\n",
       "2605      $1.0 B\n",
       "2606      $0.4 B\n",
       "2607      $0.0 B\n",
       "2608      $0.0 B\n",
       "Name: Net_Worth, Length: 2609, dtype: object"
      ]
     },
     "execution_count": 22,
     "metadata": {},
     "output_type": "execute_result"
    }
   ],
   "source": [
    "data['Net_Worth']"
   ]
  },
  {
   "cell_type": "code",
   "execution_count": 23,
   "id": "60ef9cfd",
   "metadata": {},
   "outputs": [],
   "source": [
    "data['Net_Worth'] = data['Net_Worth'].str.replace('$','').str.replace('B','').str.strip().astype(float)"
   ]
  },
  {
   "cell_type": "markdown",
   "id": "685ce6e9",
   "metadata": {},
   "source": [
    "### Fill age value as much as possible in Age column and correct data type"
   ]
  },
  {
   "cell_type": "code",
   "execution_count": 24,
   "id": "a6632571",
   "metadata": {},
   "outputs": [
    {
     "data": {
      "text/plain": [
       "102      Karl Albrecht Jr.\n",
       "103          Beate Heister\n",
       "254     Francine von Finck\n",
       "423          Douglas Leone\n",
       "448            Zhou Qunfei\n",
       "               ...        \n",
       "2487      Francesco Saputo\n",
       "2489             Wang Fuji\n",
       "2564           Cai Hongbin\n",
       "2578        Michael McCain\n",
       "2584           Cho Jyh-jer\n",
       "Name: Name, Length: 77, dtype: object"
      ]
     },
     "execution_count": 24,
     "metadata": {},
     "output_type": "execute_result"
    }
   ],
   "source": [
    "# These are the names, whose age is not available. I will try to fill it.\n",
    "data[data['Age'].isnull()]['Name']"
   ]
  },
  {
   "cell_type": "code",
   "execution_count": 25,
   "id": "9e7d2dbb",
   "metadata": {
    "scrolled": false
   },
   "outputs": [
    {
     "name": "stdout",
     "output_type": "stream",
     "text": [
      "Born: 1948 (age 75 years), Essen, Germany\n",
      "Born: 5 October 1951 (age 71 years), Essen, Germany\n",
      "Born: 2 May 1968 (age 55 years), Munich, Germany\n",
      "Born: 4 July 1957 (age 66 years), Genoa, Italy\n",
      "Born: 1970 (age 53 years), Xiangxiang, Xiangtan, China\n",
      "Born: 28 January 1955 (age 68 years), New Delhi\n",
      "Born: 12 September 1954 (age 68 years), Cardiff, United Kingdom\n",
      "Born: 11 October 1967 (age 55 years), Frankfurt, Germany\n",
      "Born: 31 October 1971 (age 51 years), Buenos Aires, Argentina\n",
      "nan\n",
      "Born: 1930 (age 93 years)\n",
      "nan\n",
      "nan\n",
      "Born: 9 June 1975 (age 48 years), Hamburg, Germany\n",
      "nan\n",
      "nan\n",
      "nan\n",
      "Born: 4 November 1969 (age 53 years), Bielefeld, Germany\n",
      "nan\n",
      "nan\n",
      "nan\n",
      "Born: 1968 (age 55 years)\n",
      "Born: 11 August 1946 (age 76 years)\n",
      "nan\n",
      "nan\n",
      "nan\n",
      "nan\n",
      "Parent organization: Lisa Dräxlmaier GmbH\n",
      "Born: 3 May 1952 (age 71 years), Suresnes, France\n",
      "nan\n",
      "nan\n",
      "nan\n",
      "nan\n",
      "nan\n",
      "nan\n",
      "Born: 15 October 1975 (age 47 years)\n",
      "nan\n",
      "nan\n",
      "nan\n",
      "nan\n",
      "nan\n",
      "nan\n",
      "nan\n",
      "nan\n",
      "Born: 24 January 1979 (age 44 years), Shanghai, China\n",
      "nan\n",
      "nan\n",
      "nan\n",
      "nan\n",
      "nan\n",
      "nan\n",
      "nan\n",
      "nan\n",
      "nan\n",
      "nan\n",
      "nan\n",
      "nan\n",
      "nan\n",
      "nan\n",
      "nan\n",
      "Born: 16 March 1727, Dudley, United Kingdom\n",
      "nan\n",
      "nan\n",
      "nan\n",
      "nan\n",
      "nan\n",
      "nan\n",
      "Born: 15 March 1952 (age 71 years), Croydon, United Kingdom\n",
      "Born: August 1949 (age 73 years), London, United Kingdom\n",
      "nan\n",
      "nan\n",
      "nan\n",
      "nan\n",
      "nan\n",
      "nan\n",
      "Born: 13 November 1958 (age 64 years), Florenceville-Bristol, Canada\n",
      "nan\n"
     ]
    }
   ],
   "source": [
    "# lets fill nan values\n",
    "# Age Column is important, so I will use beautifulsoup to fill it by searching it one google.\n",
    "for index, row in data.iterrows():\n",
    "    if row['Age'] is None or pd.isna(row['Age']):\n",
    "        search_name = row['Name']\n",
    "        search_query = f\"{search_name} age\"\n",
    "        #print(search_query)\n",
    "        response = requests.get(f\"https://www.google.com/search?q={search_query}\")\n",
    "        soup = BeautifulSoup(response.text, 'html.parser')\n",
    "        try:\n",
    "            data.loc[index,'Age'] = soup.find('div', {'class': 'AVsepf'}).text\n",
    "            print(soup.find('div', {'class': 'AVsepf'}).text)\n",
    "        except:\n",
    "            data.loc[index,'Age'] = np.nan\n",
    "            print(np.nan)   "
   ]
  },
  {
   "cell_type": "code",
   "execution_count": 26,
   "id": "8b0ae9af",
   "metadata": {},
   "outputs": [
    {
     "data": {
      "text/plain": [
       "array([52.0, 74.0, 59.0, 78.0, 67.0, 92.0, 39.0, 83.0, 50.0, 66.0, 81.0,\n",
       "       49.0, 87.0, 70.0, 75.0, 68.0, 73.0, 58.0, 61.0, 85.0, 31.0, 60.0,\n",
       "       95.0, 86.0, 77.0, 51.0, 53.0, 54.0, 72.0, 76.0, 69.0, 88.0, 64.0,\n",
       "       82.0, 57.0, 65.0, 43.0, 80.0, 62.0, 84.0, 36.0, 90.0, 91.0,\n",
       "       'Born: 1948 (age 75\\xa0years), Essen, Germany',\n",
       "       'Born: 5 October 1951 (age 71\\xa0years), Essen, Germany', 56.0,\n",
       "       41.0, 55.0, 94.0, 47.0, 93.0, 96.0, 71.0, 79.0, 89.0, 38.0, 99.0,\n",
       "       63.0, 45.0, 46.0, 48.0, 44.0, 40.0,\n",
       "       'Born: 2 May 1968 (age 55\\xa0years), Munich, Germany', 42.0,\n",
       "       'Born: 4 July 1957 (age 66\\xa0years), Genoa, Italy',\n",
       "       'Born: 1970 (age 53\\xa0years), Xiangxiang, Xiangtan, China',\n",
       "       'Born: 28 January 1955 (age 68\\xa0years), New Delhi', 32.0, 34.0,\n",
       "       'Born: 12 September 1954 (age 68\\xa0years), Cardiff, United Kingdom',\n",
       "       'Born: 11 October 1967 (age 55\\xa0years), Frankfurt, Germany',\n",
       "       'Born: 31 October 1971 (age 51\\xa0years), Buenos Aires, Argentina',\n",
       "       nan, 21.0, 19.0, 28.0, 37.0, 35.0, 'Born: 1930 (age 93\\xa0years)',\n",
       "       33.0, 'Born: 9 June 1975 (age 48\\xa0years), Hamburg, Germany',\n",
       "       30.0,\n",
       "       'Born: 4 November 1969 (age 53\\xa0years), Bielefeld, Germany',\n",
       "       20.0, 98.0, 'Born: 1968 (age 55\\xa0years)',\n",
       "       'Born: 11 August 1946 (age 76\\xa0years)', 100.0,\n",
       "       'Parent organization: Lisa Dräxlmaier GmbH',\n",
       "       'Born: 3 May 1952 (age 71\\xa0years), Suresnes, France', 97.0,\n",
       "       'Born: 15 October 1975 (age 47\\xa0years)', 26.0,\n",
       "       'Born: 24 January 1979 (age 44\\xa0years), Shanghai, China', 101.0,\n",
       "       'Born: 16 March 1727, Dudley, United Kingdom', 27.0,\n",
       "       'Born: 15 March 1952 (age 71\\xa0years), Croydon, United Kingdom',\n",
       "       'Born: August 1949 (age 73\\xa0years), London, United Kingdom',\n",
       "       29.0,\n",
       "       'Born: 13 November 1958 (age 64\\xa0years), Florenceville-Bristol, Canada'],\n",
       "      dtype=object)"
      ]
     },
     "execution_count": 26,
     "metadata": {},
     "output_type": "execute_result"
    }
   ],
   "source": [
    "data['Age'].unique()"
   ]
  },
  {
   "cell_type": "code",
   "execution_count": 27,
   "id": "18c2eb88",
   "metadata": {},
   "outputs": [],
   "source": [
    "# converting to str so that I can apply string operation to split and fetch age.\n",
    "data['Age'] = data['Age'].astype(str)"
   ]
  },
  {
   "cell_type": "code",
   "execution_count": 28,
   "id": "eb99781c",
   "metadata": {},
   "outputs": [],
   "source": [
    "data['Age'] = data['Age'].str.split('age').str.get(-1).str.split('years').str.get(0).str.strip()"
   ]
  },
  {
   "cell_type": "code",
   "execution_count": 29,
   "id": "b4e8736c",
   "metadata": {},
   "outputs": [
    {
     "data": {
      "text/plain": [
       "array(['52.0', '74.0', '59.0', '78.0', '67.0', '92.0', '39.0', '83.0',\n",
       "       '50.0', '66.0', '81.0', '49.0', '87.0', '70.0', '75.0', '68.0',\n",
       "       '73.0', '58.0', '61.0', '85.0', '31.0', '60.0', '95.0', '86.0',\n",
       "       '77.0', '51.0', '53.0', '54.0', '72.0', '76.0', '69.0', '88.0',\n",
       "       '64.0', '82.0', '57.0', '65.0', '43.0', '80.0', '62.0', '84.0',\n",
       "       '36.0', '90.0', '91.0', '75', '71', '56.0', '41.0', '55.0', '94.0',\n",
       "       '47.0', '93.0', '96.0', '71.0', '79.0', '89.0', '38.0', '99.0',\n",
       "       '63.0', '45.0', '46.0', '48.0', '44.0', '40.0', '55', '42.0', '66',\n",
       "       '53', '68', '32.0', '34.0', '51', 'nan', '21.0', '19.0', '28.0',\n",
       "       '37.0', '35.0', '93', '33.0', '48', '30.0', '20.0', '98.0', '76',\n",
       "       '100.0', 'Parent organization: Lisa Dräxlmaier GmbH', '97.0', '47',\n",
       "       '26.0', '44', '101.0',\n",
       "       'Born: 16 March 1727, Dudley, United Kingdom', '27.0', '73',\n",
       "       '29.0', '64'], dtype=object)"
      ]
     },
     "execution_count": 29,
     "metadata": {},
     "output_type": "execute_result"
    }
   ],
   "source": [
    "data['Age'].unique()"
   ]
  },
  {
   "cell_type": "code",
   "execution_count": 30,
   "id": "75d7fa67",
   "metadata": {},
   "outputs": [
    {
     "data": {
      "text/html": [
       "<div>\n",
       "<style scoped>\n",
       "    .dataframe tbody tr th:only-of-type {\n",
       "        vertical-align: middle;\n",
       "    }\n",
       "\n",
       "    .dataframe tbody tr th {\n",
       "        vertical-align: top;\n",
       "    }\n",
       "\n",
       "    .dataframe thead th {\n",
       "        text-align: right;\n",
       "    }\n",
       "</style>\n",
       "<table border=\"1\" class=\"dataframe\">\n",
       "  <thead>\n",
       "    <tr style=\"text-align: right;\">\n",
       "      <th></th>\n",
       "      <th>Unnamed: 0</th>\n",
       "      <th>Image</th>\n",
       "      <th>Rank</th>\n",
       "      <th>Name</th>\n",
       "      <th>Net_Worth</th>\n",
       "      <th>Age</th>\n",
       "      <th>Source</th>\n",
       "      <th>Country</th>\n",
       "      <th>internal_link</th>\n",
       "      <th>Industry</th>\n",
       "    </tr>\n",
       "  </thead>\n",
       "  <tbody>\n",
       "    <tr>\n",
       "      <th>1471</th>\n",
       "      <td>52</td>\n",
       "      <td>https://specials-images.forbesimg.com/imageser...</td>\n",
       "      <td>1472</td>\n",
       "      <td>Fritz Draexlmaier</td>\n",
       "      <td>2.1</td>\n",
       "      <td>Parent organization: Lisa Dräxlmaier GmbH</td>\n",
       "      <td>Auto parts</td>\n",
       "      <td>Germany</td>\n",
       "      <td>https://www.forbes.com/profile/fritz-draexlmai...</td>\n",
       "      <td>Automotive</td>\n",
       "    </tr>\n",
       "  </tbody>\n",
       "</table>\n",
       "</div>"
      ],
      "text/plain": [
       "      Unnamed: 0                                              Image  Rank  \\\n",
       "1471          52  https://specials-images.forbesimg.com/imageser...  1472   \n",
       "\n",
       "                   Name  Net_Worth                                        Age  \\\n",
       "1471  Fritz Draexlmaier        2.1  Parent organization: Lisa Dräxlmaier GmbH   \n",
       "\n",
       "           Source  Country                                      internal_link  \\\n",
       "1471  Auto parts   Germany  https://www.forbes.com/profile/fritz-draexlmai...   \n",
       "\n",
       "        Industry  \n",
       "1471  Automotive  "
      ]
     },
     "execution_count": 30,
     "metadata": {},
     "output_type": "execute_result"
    }
   ],
   "source": [
    "# After splitting and filling age, two row's values are still incorrect. Lets correct it\n",
    "# 1.\n",
    "data[data['Age'] == 'Parent organization: Lisa Dräxlmaier GmbH']\n",
    "# "
   ]
  },
  {
   "cell_type": "markdown",
   "id": "76431c7a",
   "metadata": {},
   "source": [
    "By searching this name **\"Fritz Draexlmaier\"** manually on google I found that, his age is 65 years old. In future, You will have to again maually fill it, if age changes."
   ]
  },
  {
   "cell_type": "code",
   "execution_count": 31,
   "id": "cf5d4cd1",
   "metadata": {},
   "outputs": [],
   "source": [
    "data.loc[1471,'Age'] = '65'"
   ]
  },
  {
   "cell_type": "code",
   "execution_count": 32,
   "id": "45744724",
   "metadata": {},
   "outputs": [
    {
     "data": {
      "text/html": [
       "<div>\n",
       "<style scoped>\n",
       "    .dataframe tbody tr th:only-of-type {\n",
       "        vertical-align: middle;\n",
       "    }\n",
       "\n",
       "    .dataframe tbody tr th {\n",
       "        vertical-align: top;\n",
       "    }\n",
       "\n",
       "    .dataframe thead th {\n",
       "        text-align: right;\n",
       "    }\n",
       "</style>\n",
       "<table border=\"1\" class=\"dataframe\">\n",
       "  <thead>\n",
       "    <tr style=\"text-align: right;\">\n",
       "      <th></th>\n",
       "      <th>Unnamed: 0</th>\n",
       "      <th>Image</th>\n",
       "      <th>Rank</th>\n",
       "      <th>Name</th>\n",
       "      <th>Net_Worth</th>\n",
       "      <th>Age</th>\n",
       "      <th>Source</th>\n",
       "      <th>Country</th>\n",
       "      <th>internal_link</th>\n",
       "      <th>Industry</th>\n",
       "    </tr>\n",
       "  </thead>\n",
       "  <tbody>\n",
       "    <tr>\n",
       "      <th>2308</th>\n",
       "      <td>1095</td>\n",
       "      <td>https://specials-images.forbesimg.com/imageser...</td>\n",
       "      <td>2308</td>\n",
       "      <td>Catherine Phillips</td>\n",
       "      <td>1.2</td>\n",
       "      <td>Born: 16 March 1727, Dudley, United Kingdom</td>\n",
       "      <td>investments</td>\n",
       "      <td>Canada</td>\n",
       "      <td>https://www.forbes.com/profile/catherine-phill...</td>\n",
       "      <td>Finance &amp; Investments</td>\n",
       "    </tr>\n",
       "  </tbody>\n",
       "</table>\n",
       "</div>"
      ],
      "text/plain": [
       "      Unnamed: 0                                              Image  Rank  \\\n",
       "2308        1095  https://specials-images.forbesimg.com/imageser...  2308   \n",
       "\n",
       "                    Name  Net_Worth  \\\n",
       "2308  Catherine Phillips        1.2   \n",
       "\n",
       "                                              Age       Source Country  \\\n",
       "2308  Born: 16 March 1727, Dudley, United Kingdom  investments  Canada   \n",
       "\n",
       "                                          internal_link               Industry  \n",
       "2308  https://www.forbes.com/profile/catherine-phill...  Finance & Investments  "
      ]
     },
     "execution_count": 32,
     "metadata": {},
     "output_type": "execute_result"
    }
   ],
   "source": [
    "2.\n",
    "data[data['Age'] == 'Born: 16 March 1727, Dudley, United Kingdom']\n",
    "# Information fetched is wrong."
   ]
  },
  {
   "cell_type": "code",
   "execution_count": 33,
   "id": "20382b1c",
   "metadata": {},
   "outputs": [],
   "source": [
    "data.loc[2308,'Age'] = np.nan"
   ]
  },
  {
   "cell_type": "code",
   "execution_count": 34,
   "id": "5af69931",
   "metadata": {},
   "outputs": [
    {
     "data": {
      "text/plain": [
       "array(['52.0', '74.0', '59.0', '78.0', '67.0', '92.0', '39.0', '83.0',\n",
       "       '50.0', '66.0', '81.0', '49.0', '87.0', '70.0', '75.0', '68.0',\n",
       "       '73.0', '58.0', '61.0', '85.0', '31.0', '60.0', '95.0', '86.0',\n",
       "       '77.0', '51.0', '53.0', '54.0', '72.0', '76.0', '69.0', '88.0',\n",
       "       '64.0', '82.0', '57.0', '65.0', '43.0', '80.0', '62.0', '84.0',\n",
       "       '36.0', '90.0', '91.0', '75', '71', '56.0', '41.0', '55.0', '94.0',\n",
       "       '47.0', '93.0', '96.0', '71.0', '79.0', '89.0', '38.0', '99.0',\n",
       "       '63.0', '45.0', '46.0', '48.0', '44.0', '40.0', '55', '42.0', '66',\n",
       "       '53', '68', '32.0', '34.0', '51', 'nan', '21.0', '19.0', '28.0',\n",
       "       '37.0', '35.0', '93', '33.0', '48', '30.0', '20.0', '98.0', '76',\n",
       "       '100.0', '65', '97.0', '47', '26.0', '44', '101.0', nan, '27.0',\n",
       "       '73', '29.0', '64'], dtype=object)"
      ]
     },
     "execution_count": 34,
     "metadata": {},
     "output_type": "execute_result"
    }
   ],
   "source": [
    "data['Age'].unique()"
   ]
  },
  {
   "cell_type": "code",
   "execution_count": 35,
   "id": "fea95b70",
   "metadata": {},
   "outputs": [],
   "source": [
    "# Lets convert it to integer.\n",
    "data['Age'] = data['Age'].astype('float').astype('Int16')"
   ]
  },
  {
   "cell_type": "markdown",
   "id": "b025a0ce",
   "metadata": {},
   "source": [
    "This column (**Age**) has still some nan values, so, I am leaving it as it is because data is not available."
   ]
  },
  {
   "cell_type": "markdown",
   "id": "050c54af",
   "metadata": {},
   "source": [
    "### Seperate \"internal_link\" column from this dataset."
   ]
  },
  {
   "cell_type": "code",
   "execution_count": 36,
   "id": "8f4cf108",
   "metadata": {},
   "outputs": [],
   "source": [
    "internal_link_file = data['internal_link']"
   ]
  },
  {
   "cell_type": "code",
   "execution_count": 37,
   "id": "b4554fb4",
   "metadata": {},
   "outputs": [],
   "source": [
    "internal_link_file.to_csv('internal_link_file.csv', encoding='utf-8')"
   ]
  },
  {
   "cell_type": "code",
   "execution_count": 38,
   "id": "c2f7f03d",
   "metadata": {},
   "outputs": [],
   "source": [
    "data.drop(columns=['internal_link'], inplace=True)"
   ]
  },
  {
   "cell_type": "markdown",
   "id": "96c880d9",
   "metadata": {},
   "source": [
    "### 2. Table --> female_data"
   ]
  },
  {
   "cell_type": "code",
   "execution_count": 39,
   "id": "e4327c80",
   "metadata": {},
   "outputs": [
    {
     "data": {
      "text/html": [
       "<div>\n",
       "<style scoped>\n",
       "    .dataframe tbody tr th:only-of-type {\n",
       "        vertical-align: middle;\n",
       "    }\n",
       "\n",
       "    .dataframe tbody tr th {\n",
       "        vertical-align: top;\n",
       "    }\n",
       "\n",
       "    .dataframe thead th {\n",
       "        text-align: right;\n",
       "    }\n",
       "</style>\n",
       "<table border=\"1\" class=\"dataframe\">\n",
       "  <thead>\n",
       "    <tr style=\"text-align: right;\">\n",
       "      <th></th>\n",
       "      <th>Unnamed: 0</th>\n",
       "      <th>female_name</th>\n",
       "    </tr>\n",
       "  </thead>\n",
       "  <tbody>\n",
       "    <tr>\n",
       "      <th>0</th>\n",
       "      <td>0</td>\n",
       "      <td>Francoise Bettencourt Meyers &amp; family</td>\n",
       "    </tr>\n",
       "    <tr>\n",
       "      <th>1</th>\n",
       "      <td>1</td>\n",
       "      <td>Alice Walton</td>\n",
       "    </tr>\n",
       "    <tr>\n",
       "      <th>2</th>\n",
       "      <td>2</td>\n",
       "      <td>Julia Koch &amp; family</td>\n",
       "    </tr>\n",
       "    <tr>\n",
       "      <th>3</th>\n",
       "      <td>3</td>\n",
       "      <td>Jacqueline Mars</td>\n",
       "    </tr>\n",
       "    <tr>\n",
       "      <th>4</th>\n",
       "      <td>4</td>\n",
       "      <td>Miriam Adelson &amp; family</td>\n",
       "    </tr>\n",
       "    <tr>\n",
       "      <th>...</th>\n",
       "      <td>...</td>\n",
       "      <td>...</td>\n",
       "    </tr>\n",
       "    <tr>\n",
       "      <th>366</th>\n",
       "      <td>366</td>\n",
       "      <td>Hedda im Brahm-Droege</td>\n",
       "    </tr>\n",
       "    <tr>\n",
       "      <th>367</th>\n",
       "      <td>367</td>\n",
       "      <td>Pollyanna Chu</td>\n",
       "    </tr>\n",
       "    <tr>\n",
       "      <th>368</th>\n",
       "      <td>368</td>\n",
       "      <td>Ana Maria Brescia Cafferata</td>\n",
       "    </tr>\n",
       "    <tr>\n",
       "      <th>369</th>\n",
       "      <td>369</td>\n",
       "      <td>Vera Rechulski Santo Domingo</td>\n",
       "    </tr>\n",
       "    <tr>\n",
       "      <th>370</th>\n",
       "      <td>370</td>\n",
       "      <td>Elizabeth Holmes</td>\n",
       "    </tr>\n",
       "  </tbody>\n",
       "</table>\n",
       "<p>338 rows × 2 columns</p>\n",
       "</div>"
      ],
      "text/plain": [
       "     Unnamed: 0                            female_name\n",
       "0             0  Francoise Bettencourt Meyers & family\n",
       "1             1                           Alice Walton\n",
       "2             2                    Julia Koch & family\n",
       "3             3                        Jacqueline Mars\n",
       "4             4                Miriam Adelson & family\n",
       "..          ...                                    ...\n",
       "366         366                  Hedda im Brahm-Droege\n",
       "367         367                          Pollyanna Chu\n",
       "368         368            Ana Maria Brescia Cafferata\n",
       "369         369           Vera Rechulski Santo Domingo\n",
       "370         370                       Elizabeth Holmes\n",
       "\n",
       "[338 rows x 2 columns]"
      ]
     },
     "execution_count": 39,
     "metadata": {},
     "output_type": "execute_result"
    }
   ],
   "source": [
    "female_data"
   ]
  },
  {
   "cell_type": "markdown",
   "id": "ab28a694",
   "metadata": {},
   "source": [
    "### Remove & family from name column."
   ]
  },
  {
   "cell_type": "code",
   "execution_count": 40,
   "id": "a2cb9add",
   "metadata": {},
   "outputs": [
    {
     "data": {
      "text/html": [
       "<div>\n",
       "<style scoped>\n",
       "    .dataframe tbody tr th:only-of-type {\n",
       "        vertical-align: middle;\n",
       "    }\n",
       "\n",
       "    .dataframe tbody tr th {\n",
       "        vertical-align: top;\n",
       "    }\n",
       "\n",
       "    .dataframe thead th {\n",
       "        text-align: right;\n",
       "    }\n",
       "</style>\n",
       "<table border=\"1\" class=\"dataframe\">\n",
       "  <thead>\n",
       "    <tr style=\"text-align: right;\">\n",
       "      <th></th>\n",
       "      <th>Unnamed: 0</th>\n",
       "      <th>female_name</th>\n",
       "    </tr>\n",
       "  </thead>\n",
       "  <tbody>\n",
       "    <tr>\n",
       "      <th>0</th>\n",
       "      <td>0</td>\n",
       "      <td>Francoise Bettencourt Meyers &amp; family</td>\n",
       "    </tr>\n",
       "    <tr>\n",
       "      <th>2</th>\n",
       "      <td>2</td>\n",
       "      <td>Julia Koch &amp; family</td>\n",
       "    </tr>\n",
       "    <tr>\n",
       "      <th>4</th>\n",
       "      <td>4</td>\n",
       "      <td>Miriam Adelson &amp; family</td>\n",
       "    </tr>\n",
       "    <tr>\n",
       "      <th>9</th>\n",
       "      <td>9</td>\n",
       "      <td>Iris Fontbona &amp; family</td>\n",
       "    </tr>\n",
       "    <tr>\n",
       "      <th>12</th>\n",
       "      <td>12</td>\n",
       "      <td>Savitri Jindal &amp; family</td>\n",
       "    </tr>\n",
       "  </tbody>\n",
       "</table>\n",
       "</div>"
      ],
      "text/plain": [
       "    Unnamed: 0                            female_name\n",
       "0            0  Francoise Bettencourt Meyers & family\n",
       "2            2                    Julia Koch & family\n",
       "4            4                Miriam Adelson & family\n",
       "9            9                 Iris Fontbona & family\n",
       "12          12                Savitri Jindal & family"
      ]
     },
     "execution_count": 40,
     "metadata": {},
     "output_type": "execute_result"
    }
   ],
   "source": [
    "female_data[female_data['female_name'].str.contains('& family')].head()"
   ]
  },
  {
   "cell_type": "code",
   "execution_count": 41,
   "id": "66c5ce60",
   "metadata": {},
   "outputs": [],
   "source": [
    "female_data['female_name'] = female_data['female_name'].str.replace('& family','').str.strip()"
   ]
  },
  {
   "cell_type": "markdown",
   "id": "33931ff0",
   "metadata": {},
   "source": [
    "###  Create Sex column with value Female"
   ]
  },
  {
   "cell_type": "code",
   "execution_count": 42,
   "id": "dc8c9582",
   "metadata": {},
   "outputs": [],
   "source": [
    "female_data['Sex'] = 'Female'"
   ]
  },
  {
   "cell_type": "code",
   "execution_count": 43,
   "id": "4bb58fed",
   "metadata": {},
   "outputs": [
    {
     "data": {
      "text/html": [
       "<div>\n",
       "<style scoped>\n",
       "    .dataframe tbody tr th:only-of-type {\n",
       "        vertical-align: middle;\n",
       "    }\n",
       "\n",
       "    .dataframe tbody tr th {\n",
       "        vertical-align: top;\n",
       "    }\n",
       "\n",
       "    .dataframe thead th {\n",
       "        text-align: right;\n",
       "    }\n",
       "</style>\n",
       "<table border=\"1\" class=\"dataframe\">\n",
       "  <thead>\n",
       "    <tr style=\"text-align: right;\">\n",
       "      <th></th>\n",
       "      <th>Unnamed: 0</th>\n",
       "      <th>female_name</th>\n",
       "      <th>Sex</th>\n",
       "    </tr>\n",
       "  </thead>\n",
       "  <tbody>\n",
       "    <tr>\n",
       "      <th>0</th>\n",
       "      <td>0</td>\n",
       "      <td>Francoise Bettencourt Meyers</td>\n",
       "      <td>Female</td>\n",
       "    </tr>\n",
       "    <tr>\n",
       "      <th>1</th>\n",
       "      <td>1</td>\n",
       "      <td>Alice Walton</td>\n",
       "      <td>Female</td>\n",
       "    </tr>\n",
       "    <tr>\n",
       "      <th>2</th>\n",
       "      <td>2</td>\n",
       "      <td>Julia Koch</td>\n",
       "      <td>Female</td>\n",
       "    </tr>\n",
       "    <tr>\n",
       "      <th>3</th>\n",
       "      <td>3</td>\n",
       "      <td>Jacqueline Mars</td>\n",
       "      <td>Female</td>\n",
       "    </tr>\n",
       "    <tr>\n",
       "      <th>4</th>\n",
       "      <td>4</td>\n",
       "      <td>Miriam Adelson</td>\n",
       "      <td>Female</td>\n",
       "    </tr>\n",
       "    <tr>\n",
       "      <th>...</th>\n",
       "      <td>...</td>\n",
       "      <td>...</td>\n",
       "      <td>...</td>\n",
       "    </tr>\n",
       "    <tr>\n",
       "      <th>366</th>\n",
       "      <td>366</td>\n",
       "      <td>Hedda im Brahm-Droege</td>\n",
       "      <td>Female</td>\n",
       "    </tr>\n",
       "    <tr>\n",
       "      <th>367</th>\n",
       "      <td>367</td>\n",
       "      <td>Pollyanna Chu</td>\n",
       "      <td>Female</td>\n",
       "    </tr>\n",
       "    <tr>\n",
       "      <th>368</th>\n",
       "      <td>368</td>\n",
       "      <td>Ana Maria Brescia Cafferata</td>\n",
       "      <td>Female</td>\n",
       "    </tr>\n",
       "    <tr>\n",
       "      <th>369</th>\n",
       "      <td>369</td>\n",
       "      <td>Vera Rechulski Santo Domingo</td>\n",
       "      <td>Female</td>\n",
       "    </tr>\n",
       "    <tr>\n",
       "      <th>370</th>\n",
       "      <td>370</td>\n",
       "      <td>Elizabeth Holmes</td>\n",
       "      <td>Female</td>\n",
       "    </tr>\n",
       "  </tbody>\n",
       "</table>\n",
       "<p>338 rows × 3 columns</p>\n",
       "</div>"
      ],
      "text/plain": [
       "     Unnamed: 0                   female_name     Sex\n",
       "0             0  Francoise Bettencourt Meyers  Female\n",
       "1             1                  Alice Walton  Female\n",
       "2             2                    Julia Koch  Female\n",
       "3             3               Jacqueline Mars  Female\n",
       "4             4                Miriam Adelson  Female\n",
       "..          ...                           ...     ...\n",
       "366         366         Hedda im Brahm-Droege  Female\n",
       "367         367                 Pollyanna Chu  Female\n",
       "368         368   Ana Maria Brescia Cafferata  Female\n",
       "369         369  Vera Rechulski Santo Domingo  Female\n",
       "370         370              Elizabeth Holmes  Female\n",
       "\n",
       "[338 rows x 3 columns]"
      ]
     },
     "execution_count": 43,
     "metadata": {},
     "output_type": "execute_result"
    }
   ],
   "source": [
    "female_data"
   ]
  },
  {
   "cell_type": "markdown",
   "id": "12d73791",
   "metadata": {},
   "source": [
    "### This dataset should not be independent, merge it with data."
   ]
  },
  {
   "cell_type": "code",
   "execution_count": 44,
   "id": "d85eefc1",
   "metadata": {},
   "outputs": [],
   "source": [
    "# Apply left merge with common column 'name'.\n",
    "billionaires_data_cleaned = data.merge(female_data, how='left', left_on='Name', right_on='female_name')"
   ]
  },
  {
   "cell_type": "code",
   "execution_count": 45,
   "id": "9f1563f1",
   "metadata": {},
   "outputs": [
    {
     "data": {
      "text/html": [
       "<div>\n",
       "<style scoped>\n",
       "    .dataframe tbody tr th:only-of-type {\n",
       "        vertical-align: middle;\n",
       "    }\n",
       "\n",
       "    .dataframe tbody tr th {\n",
       "        vertical-align: top;\n",
       "    }\n",
       "\n",
       "    .dataframe thead th {\n",
       "        text-align: right;\n",
       "    }\n",
       "</style>\n",
       "<table border=\"1\" class=\"dataframe\">\n",
       "  <thead>\n",
       "    <tr style=\"text-align: right;\">\n",
       "      <th></th>\n",
       "      <th>Unnamed: 0_x</th>\n",
       "      <th>Image</th>\n",
       "      <th>Rank</th>\n",
       "      <th>Name</th>\n",
       "      <th>Net_Worth</th>\n",
       "      <th>Age</th>\n",
       "      <th>Source</th>\n",
       "      <th>Country</th>\n",
       "      <th>Industry</th>\n",
       "      <th>Unnamed: 0_y</th>\n",
       "      <th>female_name</th>\n",
       "      <th>Sex</th>\n",
       "    </tr>\n",
       "  </thead>\n",
       "  <tbody>\n",
       "    <tr>\n",
       "      <th>0</th>\n",
       "      <td>0</td>\n",
       "      <td>https://specials-images.forbesimg.com/imageser...</td>\n",
       "      <td>1</td>\n",
       "      <td>Elon Musk</td>\n",
       "      <td>242.7</td>\n",
       "      <td>52</td>\n",
       "      <td>Tesla, SpaceX</td>\n",
       "      <td>United States</td>\n",
       "      <td>Automotive</td>\n",
       "      <td>NaN</td>\n",
       "      <td>NaN</td>\n",
       "      <td>NaN</td>\n",
       "    </tr>\n",
       "    <tr>\n",
       "      <th>1</th>\n",
       "      <td>439</td>\n",
       "      <td>https://specials-images.forbesimg.com/imageser...</td>\n",
       "      <td>2</td>\n",
       "      <td>Bernard Arnault</td>\n",
       "      <td>224.1</td>\n",
       "      <td>74</td>\n",
       "      <td>LVMH</td>\n",
       "      <td>France</td>\n",
       "      <td>Fashion &amp; Retail</td>\n",
       "      <td>NaN</td>\n",
       "      <td>NaN</td>\n",
       "      <td>NaN</td>\n",
       "    </tr>\n",
       "    <tr>\n",
       "      <th>2</th>\n",
       "      <td>2479</td>\n",
       "      <td>https://specials-images.forbesimg.com/imageser...</td>\n",
       "      <td>3</td>\n",
       "      <td>Jeff Bezos</td>\n",
       "      <td>149.8</td>\n",
       "      <td>59</td>\n",
       "      <td>Amazon</td>\n",
       "      <td>United States</td>\n",
       "      <td>Technology</td>\n",
       "      <td>NaN</td>\n",
       "      <td>NaN</td>\n",
       "      <td>NaN</td>\n",
       "    </tr>\n",
       "    <tr>\n",
       "      <th>3</th>\n",
       "      <td>2480</td>\n",
       "      <td>https://specials-images.forbesimg.com/imageser...</td>\n",
       "      <td>4</td>\n",
       "      <td>Larry Ellison</td>\n",
       "      <td>144.5</td>\n",
       "      <td>78</td>\n",
       "      <td>Oracle</td>\n",
       "      <td>United States</td>\n",
       "      <td>Technology</td>\n",
       "      <td>NaN</td>\n",
       "      <td>NaN</td>\n",
       "      <td>NaN</td>\n",
       "    </tr>\n",
       "    <tr>\n",
       "      <th>4</th>\n",
       "      <td>2481</td>\n",
       "      <td>https://specials-images.forbesimg.com/imageser...</td>\n",
       "      <td>5</td>\n",
       "      <td>Bill Gates</td>\n",
       "      <td>118.0</td>\n",
       "      <td>67</td>\n",
       "      <td>Microsoft</td>\n",
       "      <td>United States</td>\n",
       "      <td>Technology</td>\n",
       "      <td>NaN</td>\n",
       "      <td>NaN</td>\n",
       "      <td>NaN</td>\n",
       "    </tr>\n",
       "    <tr>\n",
       "      <th>...</th>\n",
       "      <td>...</td>\n",
       "      <td>...</td>\n",
       "      <td>...</td>\n",
       "      <td>...</td>\n",
       "      <td>...</td>\n",
       "      <td>...</td>\n",
       "      <td>...</td>\n",
       "      <td>...</td>\n",
       "      <td>...</td>\n",
       "      <td>...</td>\n",
       "      <td>...</td>\n",
       "      <td>...</td>\n",
       "    </tr>\n",
       "    <tr>\n",
       "      <th>2604</th>\n",
       "      <td>2829</td>\n",
       "      <td>https://specials-images.forbesimg.com/imageser...</td>\n",
       "      <td>2606</td>\n",
       "      <td>Chang Jing</td>\n",
       "      <td>1.0</td>\n",
       "      <td>40</td>\n",
       "      <td>Technology</td>\n",
       "      <td>China</td>\n",
       "      <td>Technology</td>\n",
       "      <td>NaN</td>\n",
       "      <td>NaN</td>\n",
       "      <td>NaN</td>\n",
       "    </tr>\n",
       "    <tr>\n",
       "      <th>2605</th>\n",
       "      <td>2437</td>\n",
       "      <td>https://specials-images.forbesimg.com/imageser...</td>\n",
       "      <td>2607</td>\n",
       "      <td>Vijay Shekhar Sharma</td>\n",
       "      <td>1.0</td>\n",
       "      <td>45</td>\n",
       "      <td>financial technology</td>\n",
       "      <td>India</td>\n",
       "      <td>Service</td>\n",
       "      <td>NaN</td>\n",
       "      <td>NaN</td>\n",
       "      <td>NaN</td>\n",
       "    </tr>\n",
       "    <tr>\n",
       "      <th>2606</th>\n",
       "      <td>726</td>\n",
       "      <td>https://specials-images.forbesimg.com/imageser...</td>\n",
       "      <td>2608</td>\n",
       "      <td>Kanye West</td>\n",
       "      <td>0.4</td>\n",
       "      <td>46</td>\n",
       "      <td>music, sneakers</td>\n",
       "      <td>United States</td>\n",
       "      <td>Fashion &amp; Retail</td>\n",
       "      <td>NaN</td>\n",
       "      <td>NaN</td>\n",
       "      <td>NaN</td>\n",
       "    </tr>\n",
       "    <tr>\n",
       "      <th>2607</th>\n",
       "      <td>1143</td>\n",
       "      <td>https://specials-images.forbesimg.com/imageser...</td>\n",
       "      <td>2610</td>\n",
       "      <td>Sam Bankman-Fried</td>\n",
       "      <td>0.0</td>\n",
       "      <td>31</td>\n",
       "      <td>cryptocurrency exchange</td>\n",
       "      <td>United States</td>\n",
       "      <td>Finance &amp; Investments</td>\n",
       "      <td>NaN</td>\n",
       "      <td>NaN</td>\n",
       "      <td>NaN</td>\n",
       "    </tr>\n",
       "    <tr>\n",
       "      <th>2608</th>\n",
       "      <td>1608</td>\n",
       "      <td>https://specials-images.forbesimg.com/imageser...</td>\n",
       "      <td>2611</td>\n",
       "      <td>Elizabeth Holmes</td>\n",
       "      <td>0.0</td>\n",
       "      <td>39</td>\n",
       "      <td>blood testing</td>\n",
       "      <td>United States</td>\n",
       "      <td>Healthcare</td>\n",
       "      <td>370.0</td>\n",
       "      <td>Elizabeth Holmes</td>\n",
       "      <td>Female</td>\n",
       "    </tr>\n",
       "  </tbody>\n",
       "</table>\n",
       "<p>2609 rows × 12 columns</p>\n",
       "</div>"
      ],
      "text/plain": [
       "      Unnamed: 0_x                                              Image  Rank  \\\n",
       "0                0  https://specials-images.forbesimg.com/imageser...     1   \n",
       "1              439  https://specials-images.forbesimg.com/imageser...     2   \n",
       "2             2479  https://specials-images.forbesimg.com/imageser...     3   \n",
       "3             2480  https://specials-images.forbesimg.com/imageser...     4   \n",
       "4             2481  https://specials-images.forbesimg.com/imageser...     5   \n",
       "...            ...                                                ...   ...   \n",
       "2604          2829  https://specials-images.forbesimg.com/imageser...  2606   \n",
       "2605          2437  https://specials-images.forbesimg.com/imageser...  2607   \n",
       "2606           726  https://specials-images.forbesimg.com/imageser...  2608   \n",
       "2607          1143  https://specials-images.forbesimg.com/imageser...  2610   \n",
       "2608          1608  https://specials-images.forbesimg.com/imageser...  2611   \n",
       "\n",
       "                      Name  Net_Worth  Age                   Source  \\\n",
       "0                Elon Musk      242.7   52            Tesla, SpaceX   \n",
       "1          Bernard Arnault      224.1   74                     LVMH   \n",
       "2               Jeff Bezos      149.8   59                   Amazon   \n",
       "3            Larry Ellison      144.5   78                   Oracle   \n",
       "4               Bill Gates      118.0   67                Microsoft   \n",
       "...                    ...        ...  ...                      ...   \n",
       "2604            Chang Jing        1.0   40              Technology    \n",
       "2605  Vijay Shekhar Sharma        1.0   45     financial technology   \n",
       "2606            Kanye West        0.4   46          music, sneakers   \n",
       "2607     Sam Bankman-Fried        0.0   31  cryptocurrency exchange   \n",
       "2608      Elizabeth Holmes        0.0   39            blood testing   \n",
       "\n",
       "            Country               Industry  Unnamed: 0_y       female_name  \\\n",
       "0     United States             Automotive           NaN               NaN   \n",
       "1            France       Fashion & Retail           NaN               NaN   \n",
       "2     United States             Technology           NaN               NaN   \n",
       "3     United States             Technology           NaN               NaN   \n",
       "4     United States             Technology           NaN               NaN   \n",
       "...             ...                    ...           ...               ...   \n",
       "2604          China             Technology           NaN               NaN   \n",
       "2605          India                Service           NaN               NaN   \n",
       "2606  United States       Fashion & Retail           NaN               NaN   \n",
       "2607  United States  Finance & Investments           NaN               NaN   \n",
       "2608  United States             Healthcare         370.0  Elizabeth Holmes   \n",
       "\n",
       "         Sex  \n",
       "0        NaN  \n",
       "1        NaN  \n",
       "2        NaN  \n",
       "3        NaN  \n",
       "4        NaN  \n",
       "...      ...  \n",
       "2604     NaN  \n",
       "2605     NaN  \n",
       "2606     NaN  \n",
       "2607     NaN  \n",
       "2608  Female  \n",
       "\n",
       "[2609 rows x 12 columns]"
      ]
     },
     "execution_count": 45,
     "metadata": {},
     "output_type": "execute_result"
    }
   ],
   "source": [
    "billionaires_data_cleaned"
   ]
  },
  {
   "cell_type": "markdown",
   "id": "a875f407",
   "metadata": {},
   "source": [
    "## After merging the both dataset, New issue Occured.\n",
    "\n",
    "\n",
    "### Issues with this Dataset\n",
    "\n",
    "#### 1. table -> billionaires_data_cleaned\n",
    "\n",
    "`Unnamed: 0_x, Unnamed: 0_y, female_name` column should not be there, drop it.\n",
    "\n",
    "`Sex` Column has some null values. Replace it with 'Male'\n",
    "\n",
    "Some Billionaires Net Worth is less than 1 Billion, As as that will not be considered in billionaires. Drop it\n"
   ]
  },
  {
   "cell_type": "markdown",
   "id": "756ecbd6",
   "metadata": {},
   "source": [
    "### Dropping Unnamed: 0_x, Unnamed: 0_y, female_name columns"
   ]
  },
  {
   "cell_type": "code",
   "execution_count": 46,
   "id": "c36138ac",
   "metadata": {},
   "outputs": [],
   "source": [
    "billionaires_data_cleaned.drop(columns = ['Unnamed: 0_x','Unnamed: 0_y','female_name'], inplace=True)"
   ]
  },
  {
   "cell_type": "code",
   "execution_count": 47,
   "id": "4c5fcfb9",
   "metadata": {},
   "outputs": [],
   "source": [
    "def nan_to_male(value):\n",
    "    if value =='Female':\n",
    "        return value\n",
    "    else:\n",
    "        return \"Male\""
   ]
  },
  {
   "cell_type": "code",
   "execution_count": 48,
   "id": "697d8d1a",
   "metadata": {},
   "outputs": [],
   "source": [
    "billionaires_data_cleaned['Sex'] = billionaires_data_cleaned['Sex'].apply(nan_to_male)"
   ]
  },
  {
   "cell_type": "code",
   "execution_count": 49,
   "id": "77305ee3",
   "metadata": {},
   "outputs": [
    {
     "name": "stdout",
     "output_type": "stream",
     "text": [
      "<class 'pandas.core.frame.DataFrame'>\n",
      "Int64Index: 2609 entries, 0 to 2608\n",
      "Data columns (total 9 columns):\n",
      " #   Column     Non-Null Count  Dtype  \n",
      "---  ------     --------------  -----  \n",
      " 0   Image      2609 non-null   object \n",
      " 1   Rank       2609 non-null   Int16  \n",
      " 2   Name       2609 non-null   object \n",
      " 3   Net_Worth  2609 non-null   float64\n",
      " 4   Age        2553 non-null   Int16  \n",
      " 5   Source     2609 non-null   object \n",
      " 6   Country    2609 non-null   object \n",
      " 7   Industry   2609 non-null   object \n",
      " 8   Sex        2609 non-null   object \n",
      "dtypes: Int16(2), float64(1), object(6)\n",
      "memory usage: 178.3+ KB\n"
     ]
    }
   ],
   "source": [
    "billionaires_data_cleaned.info()"
   ]
  },
  {
   "cell_type": "code",
   "execution_count": 53,
   "id": "eed5e56c",
   "metadata": {},
   "outputs": [
    {
     "data": {
      "text/html": [
       "<div>\n",
       "<style scoped>\n",
       "    .dataframe tbody tr th:only-of-type {\n",
       "        vertical-align: middle;\n",
       "    }\n",
       "\n",
       "    .dataframe tbody tr th {\n",
       "        vertical-align: top;\n",
       "    }\n",
       "\n",
       "    .dataframe thead th {\n",
       "        text-align: right;\n",
       "    }\n",
       "</style>\n",
       "<table border=\"1\" class=\"dataframe\">\n",
       "  <thead>\n",
       "    <tr style=\"text-align: right;\">\n",
       "      <th></th>\n",
       "      <th>Image</th>\n",
       "      <th>Rank</th>\n",
       "      <th>Name</th>\n",
       "      <th>Net_Worth</th>\n",
       "      <th>Age</th>\n",
       "      <th>Source</th>\n",
       "      <th>Country</th>\n",
       "      <th>Industry</th>\n",
       "      <th>Sex</th>\n",
       "    </tr>\n",
       "  </thead>\n",
       "  <tbody>\n",
       "    <tr>\n",
       "      <th>2606</th>\n",
       "      <td>https://specials-images.forbesimg.com/imageser...</td>\n",
       "      <td>2608</td>\n",
       "      <td>Kanye West</td>\n",
       "      <td>0.4</td>\n",
       "      <td>46</td>\n",
       "      <td>music, sneakers</td>\n",
       "      <td>United States</td>\n",
       "      <td>Fashion &amp; Retail</td>\n",
       "      <td>Male</td>\n",
       "    </tr>\n",
       "    <tr>\n",
       "      <th>2607</th>\n",
       "      <td>https://specials-images.forbesimg.com/imageser...</td>\n",
       "      <td>2610</td>\n",
       "      <td>Sam Bankman-Fried</td>\n",
       "      <td>0.0</td>\n",
       "      <td>31</td>\n",
       "      <td>cryptocurrency exchange</td>\n",
       "      <td>United States</td>\n",
       "      <td>Finance &amp; Investments</td>\n",
       "      <td>Male</td>\n",
       "    </tr>\n",
       "    <tr>\n",
       "      <th>2608</th>\n",
       "      <td>https://specials-images.forbesimg.com/imageser...</td>\n",
       "      <td>2611</td>\n",
       "      <td>Elizabeth Holmes</td>\n",
       "      <td>0.0</td>\n",
       "      <td>39</td>\n",
       "      <td>blood testing</td>\n",
       "      <td>United States</td>\n",
       "      <td>Healthcare</td>\n",
       "      <td>Female</td>\n",
       "    </tr>\n",
       "  </tbody>\n",
       "</table>\n",
       "</div>"
      ],
      "text/plain": [
       "                                                  Image  Rank  \\\n",
       "2606  https://specials-images.forbesimg.com/imageser...  2608   \n",
       "2607  https://specials-images.forbesimg.com/imageser...  2610   \n",
       "2608  https://specials-images.forbesimg.com/imageser...  2611   \n",
       "\n",
       "                   Name  Net_Worth  Age                   Source  \\\n",
       "2606         Kanye West        0.4   46          music, sneakers   \n",
       "2607  Sam Bankman-Fried        0.0   31  cryptocurrency exchange   \n",
       "2608   Elizabeth Holmes        0.0   39            blood testing   \n",
       "\n",
       "            Country               Industry     Sex  \n",
       "2606  United States       Fashion & Retail    Male  \n",
       "2607  United States  Finance & Investments    Male  \n",
       "2608  United States             Healthcare  Female  "
      ]
     },
     "execution_count": 53,
     "metadata": {},
     "output_type": "execute_result"
    }
   ],
   "source": [
    "# Removing Billionaires, whose Net_Worth is less than 1 billion.\n",
    "billionaires_data_cleaned[billionaires_data_cleaned['Net_Worth'] < 1]"
   ]
  },
  {
   "cell_type": "code",
   "execution_count": 56,
   "id": "3c66ce86",
   "metadata": {},
   "outputs": [],
   "source": [
    "billionaires_data_cleaned = billionaires_data_cleaned[billionaires_data_cleaned['Net_Worth'] >= 1]"
   ]
  },
  {
   "cell_type": "markdown",
   "id": "cf3651c7",
   "metadata": {},
   "source": [
    "#### Now our data is totally cleaned, it is now ready for analysis."
   ]
  },
  {
   "cell_type": "code",
   "execution_count": 58,
   "id": "a5517050",
   "metadata": {},
   "outputs": [],
   "source": [
    "billionaires_data_cleaned.to_csv('billionaires_cleaned.csv', encoding='utf-8')"
   ]
  },
  {
   "cell_type": "code",
   "execution_count": null,
   "id": "30a52e82",
   "metadata": {},
   "outputs": [],
   "source": []
  }
 ],
 "metadata": {
  "kernelspec": {
   "display_name": "Python 3 (ipykernel)",
   "language": "python",
   "name": "python3"
  },
  "language_info": {
   "codemirror_mode": {
    "name": "ipython",
    "version": 3
   },
   "file_extension": ".py",
   "mimetype": "text/x-python",
   "name": "python",
   "nbconvert_exporter": "python",
   "pygments_lexer": "ipython3",
   "version": "3.10.6"
  }
 },
 "nbformat": 4,
 "nbformat_minor": 5
}
